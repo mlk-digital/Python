{
 "cells": [
  {
   "cell_type": "markdown",
   "id": "be68aaaf",
   "metadata": {},
   "source": [
    "# Aufgaben: Modul `random`\n",
    "Das Modul `random` in Python wird verwendet, um Zufallszahlen zu generieren. \n",
    "\n",
    "Es bietet verschiedene Funktionen, um Zahlen aus verschiedenen Bereichen und Formaten zu generieren."
   ]
  },
  {
   "cell_type": "markdown",
   "id": "d20be48d",
   "metadata": {},
   "source": [
    "## Leichte Aufgaben"
   ]
  },
  {
   "cell_type": "markdown",
   "id": "71820fd7",
   "metadata": {},
   "source": [
    "### Aufgabe 1: Generiere eine Zufallszahl zwischen 1 und 10"
   ]
  },
  {
   "cell_type": "code",
   "execution_count": null,
   "id": "19c9ff50-6701-4e62-8695-5f5e26dd7d48",
   "metadata": {},
   "outputs": [],
   "source": []
  },
  {
   "cell_type": "markdown",
   "id": "8a19d5e4",
   "metadata": {},
   "source": [
    "### Aufgabe 2: Wähle ein zufälliges Element aus der Liste"
   ]
  },
  {
   "cell_type": "code",
   "execution_count": 2,
   "id": "d1d46e50",
   "metadata": {},
   "outputs": [],
   "source": [
    "tiere = ['Katze', 'Hund', 'Maus', 'Vogel']"
   ]
  },
  {
   "cell_type": "markdown",
   "id": "2f60fce4",
   "metadata": {},
   "source": [
    "## Mittlere Aufgaben"
   ]
  },
  {
   "cell_type": "markdown",
   "id": "a7d68d5f",
   "metadata": {},
   "source": [
    "### Aufgabe 3: Mische die Reihenfolge der Elemente in der Liste `tiere` und drucke das Ergebnis"
   ]
  },
  {
   "cell_type": "code",
   "execution_count": null,
   "id": "63617e22-bad3-46a7-9990-dc58e776e3cc",
   "metadata": {},
   "outputs": [],
   "source": []
  },
  {
   "cell_type": "markdown",
   "id": "20c2d50e",
   "metadata": {},
   "source": [
    "### Aufgabe 4: Generiere drei einzigartige Zufallszahlen zwischen 1 und 10"
   ]
  },
  {
   "cell_type": "code",
   "execution_count": null,
   "id": "001ac42d-cd80-41d8-8b4a-9356d18b4844",
   "metadata": {},
   "outputs": [],
   "source": []
  },
  {
   "cell_type": "markdown",
   "id": "a196b303",
   "metadata": {},
   "source": [
    "## Schwere Aufgaben"
   ]
  },
  {
   "cell_type": "markdown",
   "id": "67cd1bce",
   "metadata": {},
   "source": [
    "### Aufgabe 5: Wähle ein Element aus einer Liste mit Gewichtungen"
   ]
  },
  {
   "cell_type": "code",
   "execution_count": null,
   "id": "311f0713-2da8-4666-8e16-841c10d0e2e6",
   "metadata": {},
   "outputs": [],
   "source": []
  },
  {
   "cell_type": "markdown",
   "id": "754fad13",
   "metadata": {},
   "source": [
    "### Aufgabe 6: Generiere eine Zufallszahl, die einer normalverteilten Population entspricht\n",
    "Mittelwert = 0, Standardabweichung = 1"
   ]
  },
  {
   "cell_type": "code",
   "execution_count": null,
   "id": "358a0f28-a299-44d5-b5dd-d2c939828dc5",
   "metadata": {},
   "outputs": [],
   "source": []
  },
  {
   "cell_type": "markdown",
   "id": "fecd0e9d-fa15-4e6e-96f4-44e6752d3831",
   "metadata": {},
   "source": [
    "----"
   ]
  },
  {
   "cell_type": "markdown",
   "id": "6a78a328-1900-4ea2-a2d3-c26c86b2fbf3",
   "metadata": {},
   "source": [
    "## Lösungen"
   ]
  },
  {
   "cell_type": "markdown",
   "id": "f7cc6471-ca8c-4458-87c7-974251105cd6",
   "metadata": {},
   "source": [
    "##### Aufgabe 1: Generiere eine Zufallszahl zwischen 1 und 10"
   ]
  },
  {
   "cell_type": "code",
   "execution_count": 3,
   "id": "8df21ff7",
   "metadata": {},
   "outputs": [
    {
     "name": "stdout",
     "output_type": "stream",
     "text": [
      "1\n"
     ]
    }
   ],
   "source": [
    "import random\n",
    "print(random.randint(1, 10))"
   ]
  },
  {
   "cell_type": "markdown",
   "id": "d6fb01fa-93a3-439e-aecd-3c553a6db9f2",
   "metadata": {},
   "source": [
    "##### Aufgabe 2: Wähle ein zufälliges Element aus der Liste"
   ]
  },
  {
   "cell_type": "code",
   "execution_count": 4,
   "id": "99a3a8a8-0990-4829-a7b5-81174d529ee7",
   "metadata": {},
   "outputs": [
    {
     "name": "stdout",
     "output_type": "stream",
     "text": [
      "Hund\n"
     ]
    }
   ],
   "source": [
    "tiere = ['Katze', 'Hund', 'Maus', 'Vogel']\n",
    "print(random.choice(tiere))"
   ]
  },
  {
   "cell_type": "markdown",
   "id": "faf07e9f-5e44-462a-afc0-43541e682ecd",
   "metadata": {},
   "source": [
    "##### Aufgabe 3: Mische die Reihenfolge der Elemente in der Liste `tiere` und drucke das Ergebnis"
   ]
  },
  {
   "cell_type": "code",
   "execution_count": 5,
   "id": "372fc756",
   "metadata": {},
   "outputs": [
    {
     "name": "stdout",
     "output_type": "stream",
     "text": [
      "['Maus', 'Vogel', 'Hund', 'Katze']\n"
     ]
    }
   ],
   "source": [
    "random.shuffle(tiere)\n",
    "print(tiere)"
   ]
  },
  {
   "cell_type": "markdown",
   "id": "926bea0f-c29c-44d1-b32f-426d0dd794ec",
   "metadata": {},
   "source": [
    "##### Aufgabe 4: Generiere drei einzigartige Zufallszahlen zwischen 1 und 10"
   ]
  },
  {
   "cell_type": "code",
   "execution_count": 6,
   "id": "1ac4c420",
   "metadata": {},
   "outputs": [
    {
     "name": "stdout",
     "output_type": "stream",
     "text": [
      "[4, 2, 3]\n"
     ]
    }
   ],
   "source": [
    "print(random.sample(range(1, 11), 3))"
   ]
  },
  {
   "cell_type": "markdown",
   "id": "12ddf9cc-118c-403f-932a-acafa7039146",
   "metadata": {},
   "source": [
    "##### Aufgabe 5: Wähle ein Element aus einer Liste mit Gewichtungen"
   ]
  },
  {
   "cell_type": "code",
   "execution_count": 7,
   "id": "ef652e59-ba93-417f-b7b6-27047e218400",
   "metadata": {},
   "outputs": [
    {
     "name": "stdout",
     "output_type": "stream",
     "text": [
      "Maus\n"
     ]
    }
   ],
   "source": [
    "gewichtete_tiere = [('Katze', 1), ('Hund', 2), ('Maus', 3), ('Vogel', 4)]\n",
    "tiere, gewichte = zip(*gewichtete_tiere)\n",
    "tier = random.choices(tiere, weights=gewichte, k=1)\n",
    "print(tier[0])"
   ]
  },
  {
   "cell_type": "markdown",
   "id": "c1813f1b-dfbc-414e-9acd-420d65412992",
   "metadata": {},
   "source": [
    "##### Aufgabe 6: Generiere eine Zufallszahl, die einer normalverteilten Population entspricht\n",
    "Mittelwert = 0, Standardabweichung = 1"
   ]
  },
  {
   "cell_type": "code",
   "execution_count": 8,
   "id": "64c3e057",
   "metadata": {},
   "outputs": [
    {
     "name": "stdout",
     "output_type": "stream",
     "text": [
      "-0.9619612858939064\n"
     ]
    }
   ],
   "source": [
    "print(random.gauss(0, 1))"
   ]
  },
  {
   "cell_type": "markdown",
   "id": "6d13d07d-b9af-4c44-b548-87544adda7a5",
   "metadata": {},
   "source": [
    "----"
   ]
  },
  {
   "cell_type": "code",
   "execution_count": null,
   "id": "558cc042-9e21-460a-b944-40f8096ee2c5",
   "metadata": {},
   "outputs": [],
   "source": []
  }
 ],
 "metadata": {
  "kernelspec": {
   "display_name": "Python 3 (ipykernel)",
   "language": "python",
   "name": "python3"
  },
  "language_info": {
   "codemirror_mode": {
    "name": "ipython",
    "version": 3
   },
   "file_extension": ".py",
   "mimetype": "text/x-python",
   "name": "python",
   "nbconvert_exporter": "python",
   "pygments_lexer": "ipython3",
   "version": "3.12.1"
  }
 },
 "nbformat": 4,
 "nbformat_minor": 5
}
