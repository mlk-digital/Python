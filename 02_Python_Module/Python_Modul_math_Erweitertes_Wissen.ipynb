{
 "cells": [
  {
   "cell_type": "markdown",
   "id": "a41944a3",
   "metadata": {},
   "source": [
    "## Erweiterte Erklärung zum Python Math-Modul"
   ]
  },
  {
   "cell_type": "markdown",
   "id": "1be365e7",
   "metadata": {},
   "source": [
    "Das Math-Modul in Python ist eine Bibliothek, die eine breite Palette von mathematischen Funktionen bereitstellt. Diese Funktionen sind hilfreich für die Durchführung von mathematischen Berechnungen, die in der Mathematik häufig verwendet werden. Das Modul basiert auf den C-Mathematikfunktionen und ist daher sehr effizient."
   ]
  },
  {
   "cell_type": "markdown",
   "id": "ef02836c",
   "metadata": {},
   "source": [
    "### Installation und Import"
   ]
  },
  {
   "cell_type": "markdown",
   "id": "a21a435b",
   "metadata": {},
   "source": [
    "Das Math-Modul ist ein Teil der Python Standardbibliothek, daher muss es nicht installiert werden. Du kannst es einfach mit `import math` in dein Python-Skript oder Jupyter Notebook importieren."
   ]
  },
  {
   "cell_type": "markdown",
   "id": "9ab57173",
   "metadata": {},
   "source": [
    "### Übersicht der Funktionen"
   ]
  },
  {
   "cell_type": "markdown",
   "id": "8b5d084e",
   "metadata": {},
   "source": [
    "Das Math-Modul bietet Funktionen für verschiedene Kategorien mathematischer Operationen, einschließlich arithmetischer Operationen, trigonometrischer Funktionen, Logarithmus- und Exponentialfunktionen, Wurzelberechnungen und mehr."
   ]
  },
  {
   "cell_type": "markdown",
   "id": "a65a1880",
   "metadata": {},
   "source": [
    "#### Arithmetische Funktionen"
   ]
  },
  {
   "cell_type": "markdown",
   "id": "32544611",
   "metadata": {},
   "source": [
    "- `math.ceil(x)`: Rundet x auf die kleinste Ganzzahl auf, die nicht kleiner als x ist."
   ]
  },
  {
   "cell_type": "markdown",
   "id": "0b250cfe",
   "metadata": {},
   "source": [
    "- `math.floor(x)`: Rundet x auf die größte Ganzzahl ab, die nicht größer als x ist."
   ]
  },
  {
   "cell_type": "markdown",
   "id": "29d99997",
   "metadata": {},
   "source": [
    "- `math.fabs(x)`: Gibt den absoluten Wert von x zurück."
   ]
  },
  {
   "cell_type": "markdown",
   "id": "b0560f42",
   "metadata": {},
   "source": [
    "#### Potenzen und Logarithmen"
   ]
  },
  {
   "cell_type": "markdown",
   "id": "eb9408da",
   "metadata": {},
   "source": [
    "- `math.exp(x)`: Berechnet e^x, wobei e die Basis des natürlichen Logarithmus ist."
   ]
  },
  {
   "cell_type": "markdown",
   "id": "231e3044",
   "metadata": {},
   "source": [
    "- `math.log(x[, base])`: Berechnet den Logarithmus von x zur angegebenen Basis. Wenn die Basis nicht angegeben ist, wird der natürliche Logarithmus verwendet."
   ]
  },
  {
   "cell_type": "markdown",
   "id": "73c161a7",
   "metadata": {},
   "source": [
    "#### Trigonometrische Funktionen"
   ]
  },
  {
   "cell_type": "markdown",
   "id": "6161e56a",
   "metadata": {},
   "source": [
    "- `math.sin(x)`, `math.cos(x)`, `math.tan(x)`: Berechnen den Sinus, Kosinus bzw. Tangens von x (x im Bogenmaß)."
   ]
  },
  {
   "cell_type": "markdown",
   "id": "90edce11",
   "metadata": {},
   "source": [
    "- `math.asin(x)`, `math.acos(x)`, `math.atan(x)`: Berechnen die Arkussinus, Arkuskosinus bzw. Arkustangens von x."
   ]
  },
  {
   "cell_type": "markdown",
   "id": "67c4fb4e",
   "metadata": {},
   "source": [
    "### Praktische Beispiele"
   ]
  },
  {
   "cell_type": "markdown",
   "id": "705acfd7",
   "metadata": {},
   "source": [
    "Jetzt sehen wir uns einige praktische Beispiele an, die zeigen, wie man das Math-Modul für verschiedene mathematische Berechnungen verwenden kann."
   ]
  },
  {
   "cell_type": "code",
   "execution_count": null,
   "id": "a116b369",
   "metadata": {},
   "outputs": [],
   "source": [
    "import math\n",
    "# Runden von Zahlen\n",
    "print(math.ceil(4.2))\n",
    "print(math.floor(4.2))"
   ]
  },
  {
   "cell_type": "code",
   "execution_count": null,
   "id": "f61f43db",
   "metadata": {},
   "outputs": [],
   "source": [
    "# Absoluter Wert und Potenzen\n",
    "print(math.fabs(-4))\n",
    "print(math.exp(1))\n",
    "print(math.pow(2, 3))\n",
    "print(math.log(10, 10))"
   ]
  },
  {
   "cell_type": "code",
   "execution_count": null,
   "id": "1d6736ce",
   "metadata": {},
   "outputs": [],
   "source": [
    "# Trigonometrische Funktionen\n",
    "print(math.sin(math.pi / 2))\n",
    "print(math.cos(0))\n",
    "print(math.tan(math.pi / 4))\n",
    "# Umkehrfunktionen\n",
    "print(math.asin(1))\n",
    "print(math.acos(1))\n",
    "print(math.atan(1))"
   ]
  }
 ],
 "metadata": {},
 "nbformat": 4,
 "nbformat_minor": 5
}
