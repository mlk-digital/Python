{
 "cells": [
  {
   "cell_type": "markdown",
   "id": "ebd50ea9",
   "metadata": {},
   "source": [
    "# Aufgaben Modul `fractions`\n",
    "Das Modul `fractions` ermöglicht die Arbeit mit Bruchzahlen in Python. \n",
    "\n",
    "Es kann verwendet werden, um Bruchrechnungen durchzuführen und Brüche in ihrer einfachsten Form darzustellen."
   ]
  },
  {
   "cell_type": "markdown",
   "id": "4dc53afa",
   "metadata": {},
   "source": [
    "## Leichte Aufgaben"
   ]
  },
  {
   "cell_type": "markdown",
   "id": "b977387b",
   "metadata": {},
   "source": [
    "### Aufgabe 1: Erstelle einen Bruch"
   ]
  },
  {
   "cell_type": "code",
   "execution_count": null,
   "id": "177fb0ab-8e1c-44be-bf94-a2026b856fa2",
   "metadata": {},
   "outputs": [],
   "source": []
  },
  {
   "cell_type": "markdown",
   "id": "e5584320",
   "metadata": {},
   "source": [
    "### Aufgabe 2: Addiere zwei Brüche"
   ]
  },
  {
   "cell_type": "code",
   "execution_count": null,
   "id": "e570f6b9-6b71-429b-84af-969c92b4d58d",
   "metadata": {},
   "outputs": [],
   "source": []
  },
  {
   "cell_type": "markdown",
   "id": "bec24dbe",
   "metadata": {},
   "source": [
    "## Mittlere Aufgaben"
   ]
  },
  {
   "cell_type": "markdown",
   "id": "cf82a078",
   "metadata": {},
   "source": [
    "### Aufgabe 3: Kürze einen Bruch"
   ]
  },
  {
   "cell_type": "code",
   "execution_count": null,
   "id": "5fef304c-ae07-4047-ad16-822e5f92b570",
   "metadata": {},
   "outputs": [],
   "source": []
  },
  {
   "cell_type": "markdown",
   "id": "12e1ce64",
   "metadata": {},
   "source": [
    "### Aufgabe 4: Umwandlung eines Bruches in einen Dezimalwert"
   ]
  },
  {
   "cell_type": "code",
   "execution_count": null,
   "id": "b431d90f-469d-4acf-bc5b-76754b65fb81",
   "metadata": {},
   "outputs": [],
   "source": []
  },
  {
   "cell_type": "markdown",
   "id": "5c8779ba",
   "metadata": {},
   "source": [
    "## Schwere Aufgaben"
   ]
  },
  {
   "cell_type": "markdown",
   "id": "fe5b1d26",
   "metadata": {},
   "source": [
    "### Aufgabe 5: Berechne den Kehrwert eines Bruches"
   ]
  },
  {
   "cell_type": "code",
   "execution_count": null,
   "id": "1edab3c0-3478-4834-870c-feed482946a5",
   "metadata": {},
   "outputs": [],
   "source": []
  },
  {
   "cell_type": "markdown",
   "id": "ee40de77",
   "metadata": {},
   "source": [
    "### Aufgabe 6: Addiere einen Bruch und eine ganze Zahl"
   ]
  },
  {
   "cell_type": "code",
   "execution_count": null,
   "id": "c42fb8bc-a44d-4671-b70f-a47a9374336e",
   "metadata": {},
   "outputs": [],
   "source": []
  },
  {
   "cell_type": "markdown",
   "id": "4a8519c0-484b-4af9-a90e-e410b757bb91",
   "metadata": {},
   "source": [
    "----"
   ]
  },
  {
   "cell_type": "code",
   "execution_count": 1,
   "id": "f6dd2b19-1e61-479f-9093-10b8741c7845",
   "metadata": {},
   "outputs": [],
   "source": [
    "## Lösungen"
   ]
  },
  {
   "cell_type": "markdown",
   "id": "fbfa622a-aecf-4c53-8db4-b1288fcd4a15",
   "metadata": {},
   "source": [
    "##### Aufgabe 1: Erstelle einen Bruch"
   ]
  },
  {
   "cell_type": "code",
   "execution_count": 2,
   "id": "dcfe643b",
   "metadata": {},
   "outputs": [
    {
     "name": "stdout",
     "output_type": "stream",
     "text": [
      "3/4\n"
     ]
    }
   ],
   "source": [
    "from fractions import Fraction\n",
    "\n",
    "# Erstelle den Bruch 3/4\n",
    "bruch = Fraction(3, 4)\n",
    "print(bruch)"
   ]
  },
  {
   "cell_type": "markdown",
   "id": "53807019-db43-473d-a38d-a1ce4b691c63",
   "metadata": {},
   "source": [
    "##### Aufgabe 2: Addiere zwei Brüche"
   ]
  },
  {
   "cell_type": "code",
   "execution_count": 3,
   "id": "df8c1137",
   "metadata": {},
   "outputs": [
    {
     "name": "stdout",
     "output_type": "stream",
     "text": [
      "1\n"
     ]
    }
   ],
   "source": [
    "bruch1 = Fraction(1, 4)\n",
    "bruch2 = Fraction(3, 4)\n",
    "\n",
    "# Addiere die Brüche\n",
    "ergebnis = bruch1 + bruch2\n",
    "print(ergebnis)"
   ]
  },
  {
   "cell_type": "markdown",
   "id": "04324e0d-345b-4d85-b045-96afa1fa9018",
   "metadata": {},
   "source": [
    "##### Aufgabe 3: Kürze einen Bruch"
   ]
  },
  {
   "cell_type": "code",
   "execution_count": 4,
   "id": "a5a60219",
   "metadata": {},
   "outputs": [
    {
     "name": "stdout",
     "output_type": "stream",
     "text": [
      "Gekürzter Bruch: 1/2\n"
     ]
    }
   ],
   "source": [
    "# Erstelle einen Bruch und kürze ihn\n",
    "bruch = Fraction(10, 20)\n",
    "print('Gekürzter Bruch:', bruch)"
   ]
  },
  {
   "cell_type": "markdown",
   "id": "4f58dc85-78a0-44d0-8c80-ca95be24e332",
   "metadata": {},
   "source": [
    "##### Aufgabe 4: Umwandlung eines Bruches in einen Dezimalwert"
   ]
  },
  {
   "cell_type": "code",
   "execution_count": 5,
   "id": "12d71f1c",
   "metadata": {},
   "outputs": [
    {
     "name": "stdout",
     "output_type": "stream",
     "text": [
      "Dezimalwert: 0.75\n"
     ]
    }
   ],
   "source": [
    "bruch = Fraction(3, 4)\n",
    "\n",
    "# Umwandlung in Dezimal\n",
    "dezimal = float(bruch)\n",
    "print('Dezimalwert:', dezimal)"
   ]
  },
  {
   "cell_type": "markdown",
   "id": "f210285c-9306-4f4a-9da8-b96c26441832",
   "metadata": {},
   "source": [
    "##### Aufgabe 5: Berechne den Kehrwert eines Bruches"
   ]
  },
  {
   "cell_type": "code",
   "execution_count": 6,
   "id": "6356aa60",
   "metadata": {},
   "outputs": [
    {
     "name": "stdout",
     "output_type": "stream",
     "text": [
      "Kehrwert: 4/3\n"
     ]
    }
   ],
   "source": [
    "bruch = Fraction(3, 4)\n",
    "\n",
    "# Berechne den Kehrwert\n",
    "kehrwert = 1 / bruch\n",
    "print('Kehrwert:', kehrwert)"
   ]
  },
  {
   "cell_type": "markdown",
   "id": "bfc1463d-199d-4ea0-b1c5-f08d275e3530",
   "metadata": {},
   "source": [
    "##### Aufgabe 6: Addiere einen Bruch und eine ganze Zahl"
   ]
  },
  {
   "cell_type": "code",
   "execution_count": 7,
   "id": "356a7d6b",
   "metadata": {},
   "outputs": [
    {
     "name": "stdout",
     "output_type": "stream",
     "text": [
      "Ergebnis: 9/4\n"
     ]
    }
   ],
   "source": [
    "bruch = Fraction(1, 4)\n",
    "ganze_zahl = 2\n",
    "\n",
    "# Addiere Bruch und ganze Zahl\n",
    "ergebnis = bruch + ganze_zahl\n",
    "print('Ergebnis:', ergebnis)"
   ]
  }
 ],
 "metadata": {
  "kernelspec": {
   "display_name": "Python 3 (ipykernel)",
   "language": "python",
   "name": "python3"
  },
  "language_info": {
   "codemirror_mode": {
    "name": "ipython",
    "version": 3
   },
   "file_extension": ".py",
   "mimetype": "text/x-python",
   "name": "python",
   "nbconvert_exporter": "python",
   "pygments_lexer": "ipython3",
   "version": "3.12.1"
  }
 },
 "nbformat": 4,
 "nbformat_minor": 5
}
