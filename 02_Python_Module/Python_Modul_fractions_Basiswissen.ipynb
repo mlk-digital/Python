{
 "cells": [
  {
   "cell_type": "markdown",
   "id": "5a2d7e37",
   "metadata": {},
   "source": [
    "## Grundlagen des Fraction-Moduls in Python"
   ]
  },
  {
   "cell_type": "markdown",
   "id": "211cd687",
   "metadata": {},
   "source": [
    "Das `fractions`-Modul in Python ermöglicht die **Arbeit mit Bruchzahlen**. \n",
    "\n",
    "Mit diesem Modul können **Brüche erstellt**, manipuliert und operiert **werden**.\n",
    "\n",
    "Dadurch können mathematische Berechnungen mit **exakter Präzision** durchgeführt werden."
   ]
  },
  {
   "cell_type": "markdown",
   "id": "4dde56b5",
   "metadata": {},
   "source": [
    "### Brüche erstellen"
   ]
  },
  {
   "cell_type": "markdown",
   "id": "2cb44fd4",
   "metadata": {},
   "source": [
    "Brüche können auf verschiedene Weisen erstellt werden, einschließlich aus Zahlen, Strings und sogar aus anderen Brüchen."
   ]
  },
  {
   "cell_type": "markdown",
   "id": "51e7b00c",
   "metadata": {},
   "source": [
    "### Operationen mit Brüchen"
   ]
  },
  {
   "cell_type": "markdown",
   "id": "9c12270b",
   "metadata": {},
   "source": [
    "Das Modul unterstützt alle Standardrechenoperationen, einschließlich Addition, Subtraktion, Multiplikation und Division."
   ]
  },
  {
   "cell_type": "markdown",
   "id": "e098153d",
   "metadata": {},
   "source": [
    "### Beispielcode für grundlegende Operationen"
   ]
  },
  {
   "cell_type": "markdown",
   "id": "4dbbe91f",
   "metadata": {},
   "source": [
    "Hier sind einige Beispiele, wie man Brüche erstellen und grundlegende Operationen mit ihnen durchführen kann."
   ]
  },
  {
   "cell_type": "code",
   "execution_count": null,
   "id": "6a4afd8b",
   "metadata": {},
   "outputs": [],
   "source": [
    "from fractions import Fraction\n",
    "# Bruch erstellen\n",
    "f1 = Fraction(1, 2)\n",
    "f2 = Fraction('3/4')\n",
    "print(f1, f2)"
   ]
  },
  {
   "cell_type": "code",
   "execution_count": null,
   "id": "0533460e",
   "metadata": {},
   "outputs": [],
   "source": [
    "# Addition\n",
    "print(f1 + f2)"
   ]
  },
  {
   "cell_type": "code",
   "execution_count": null,
   "id": "4bf9c51e",
   "metadata": {},
   "outputs": [],
   "source": [
    "# Subtraktion\n",
    "print(f1 - f2)"
   ]
  },
  {
   "cell_type": "code",
   "execution_count": null,
   "id": "6939ce01",
   "metadata": {},
   "outputs": [],
   "source": [
    "# Multiplikation\n",
    "print(f1 * f2)"
   ]
  },
  {
   "cell_type": "code",
   "execution_count": null,
   "id": "c00ee4bf",
   "metadata": {},
   "outputs": [],
   "source": [
    "# Division\n",
    "print(f1 / f2)"
   ]
  }
 ],
 "metadata": {
  "kernelspec": {
   "display_name": "Python 3 (ipykernel)",
   "language": "python",
   "name": "python3"
  },
  "language_info": {
   "codemirror_mode": {
    "name": "ipython",
    "version": 3
   },
   "file_extension": ".py",
   "mimetype": "text/x-python",
   "name": "python",
   "nbconvert_exporter": "python",
   "pygments_lexer": "ipython3",
   "version": "3.12.1"
  }
 },
 "nbformat": 4,
 "nbformat_minor": 5
}
