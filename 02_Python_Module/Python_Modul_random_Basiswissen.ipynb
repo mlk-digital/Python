{
 "cells": [
  {
   "cell_type": "markdown",
   "id": "3dad8939",
   "metadata": {},
   "source": [
    "\n",
    "# Das `random` Modul in Python\n",
    "\n",
    "Das `random` Modul in Python wird verwendet, um **Zufallszahlen** zu **generieren**. \n",
    "\n",
    "Dies kann für alles Mögliche nützlich sein, von der Erstellung zufälliger Daten für Tests bis hin zur Simulation von Zufallsereignissen in Spielen. \n",
    "\n",
    "In diesem Notebook werden wir uns die verschiedenen Funktionen anschauen, die das Modul bietet, und wie man sie verwenden kann.\n"
   ]
  },
  {
   "cell_type": "code",
   "execution_count": null,
   "id": "1dd07a3d",
   "metadata": {},
   "outputs": [],
   "source": [
    "\n",
    "# Zuerst müssen wir das Modul importieren\n",
    "import random\n"
   ]
  },
  {
   "cell_type": "markdown",
   "id": "4003304c",
   "metadata": {},
   "source": [
    "\n",
    "## Funktionen zur Erzeugung von Zufallszahlen\n",
    "\n",
    "Das `random` Modul bietet verschiedene Funktionen, um Zufallszahlen zu generieren. Hier sind einige der am häufigsten verwendeten Funktionen:\n"
   ]
  },
  {
   "cell_type": "markdown",
   "id": "965f832f",
   "metadata": {},
   "source": [
    "\n",
    "### `random.random()`\n",
    "\n",
    "Diese Funktion gibt eine Zufallszahl zurück, die größer oder gleich 0.0 und kleiner als 1.0 ist.\n"
   ]
  },
  {
   "cell_type": "code",
   "execution_count": null,
   "id": "8faf212a",
   "metadata": {},
   "outputs": [],
   "source": [
    "\n",
    "# Beispiel für random.random()\n",
    "random.random()\n"
   ]
  },
  {
   "cell_type": "markdown",
   "id": "322f3219",
   "metadata": {},
   "source": [
    "\n",
    "### `random.randint(a, b)`\n",
    "\n",
    "Gibt eine zufällige ganze Zahl N zurück, sodass a <= N <= b.\n"
   ]
  },
  {
   "cell_type": "code",
   "execution_count": null,
   "id": "3efc20c2",
   "metadata": {},
   "outputs": [],
   "source": [
    "\n",
    "# Beispiel für random.randint()\n",
    "random.randint(1, 10)\n"
   ]
  },
  {
   "cell_type": "markdown",
   "id": "18e1d356",
   "metadata": {},
   "source": [
    "\n",
    "### `random.choice(seq)`\n",
    "\n",
    "Gibt ein zufälliges Element aus der nicht-leeren Sequenz `seq` zurück.\n"
   ]
  },
  {
   "cell_type": "code",
   "execution_count": null,
   "id": "ae38b715",
   "metadata": {},
   "outputs": [],
   "source": [
    "\n",
    "# Beispiel für random.choice()\n",
    "random.choice(['Apfel', 'Banane', 'Kirsche', 'Dattel'])\n"
   ]
  },
  {
   "cell_type": "markdown",
   "id": "e39fc9c7",
   "metadata": {},
   "source": [
    "\n",
    "## Zusammenfassung\n",
    "\n",
    "Das `random` Modul ist ein sehr nützliches Werkzeug in Python, um Zufallszahlen zu generieren. \n",
    "\n",
    "Ob du eine einfache Zufallszahl zwischen 0 und 1 brauchst, \n",
    "\n",
    "eine zufällige ganze Zahl in einem bestimmten Bereich oder \n",
    "\n",
    "ein zufälliges Element aus einer Liste, \n",
    "\n",
    "das `random` Modul hat eine Funktion, die dir helfen kann.\n"
   ]
  }
 ],
 "metadata": {
  "kernelspec": {
   "display_name": "Python 3 (ipykernel)",
   "language": "python",
   "name": "python3"
  },
  "language_info": {
   "codemirror_mode": {
    "name": "ipython",
    "version": 3
   },
   "file_extension": ".py",
   "mimetype": "text/x-python",
   "name": "python",
   "nbconvert_exporter": "python",
   "pygments_lexer": "ipython3",
   "version": "3.12.1"
  }
 },
 "nbformat": 4,
 "nbformat_minor": 5
}
