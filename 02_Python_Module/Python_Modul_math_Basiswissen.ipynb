{
 "cells": [
  {
   "cell_type": "markdown",
   "id": "4fc333e5",
   "metadata": {},
   "source": [
    "## Python Math-Modul"
   ]
  },
  {
   "cell_type": "markdown",
   "id": "a6ebc0ba",
   "metadata": {},
   "source": [
    "Das Math-Modul in Python bietet Zugang zu mathematischen Funktionen. \n",
    "\n",
    "Es ermöglicht dir, **komplexe mathematische Operationen** einfach und effizient **durchzuführen**."
   ]
  },
  {
   "cell_type": "markdown",
   "id": "d7cbde38",
   "metadata": {},
   "source": [
    "### Wichtige Funktionen im Math-Modul"
   ]
  },
  {
   "cell_type": "markdown",
   "id": "7e3e8eca",
   "metadata": {},
   "source": [
    "Das Math-Modul enthält viele Funktionen, die für verschiedene mathematische Operationen nützlich sind. Hier sind einige der wichtigsten:"
   ]
  },
  {
   "cell_type": "markdown",
   "id": "1edc6f57",
   "metadata": {},
   "source": [
    "- `math.sqrt(x)`: Berechnet die Quadratwurzel von x."
   ]
  },
  {
   "cell_type": "markdown",
   "id": "48049c05",
   "metadata": {},
   "source": [
    "- `math.pow(x, y)`: Erhebt x in die Potenz y."
   ]
  },
  {
   "cell_type": "markdown",
   "id": "88033a41",
   "metadata": {},
   "source": [
    "- `math.sin(x)`, `math.cos(x)`, `math.tan(x)`: Berechnen den Sinus, Kosinus bzw. Tangens von x (x ist im Bogenmaß)."
   ]
  },
  {
   "cell_type": "markdown",
   "id": "84049557",
   "metadata": {},
   "source": [
    "- `math.log(x)`, `math.log10(x)`: Berechnen den natürlichen Logarithmus bzw. den Logarithmus zur Basis 10 von x."
   ]
  },
  {
   "cell_type": "markdown",
   "id": "f94bdad2",
   "metadata": {},
   "source": [
    "- `math.ceil(x)`, `math.floor(x)`: Runden x auf die nächste ganze Zahl auf bzw. ab."
   ]
  },
  {
   "cell_type": "markdown",
   "id": "2efea7f8",
   "metadata": {},
   "source": [
    "### Beispielcode"
   ]
  },
  {
   "cell_type": "markdown",
   "id": "0471d5da",
   "metadata": {},
   "source": [
    "Lass uns einige Beispiele anschauen, wie man das Math-Modul nutzen kann:"
   ]
  },
  {
   "cell_type": "code",
   "execution_count": null,
   "id": "b077c181",
   "metadata": {},
   "outputs": [],
   "source": [
    "import math\n",
    "print(math.sqrt(16))"
   ]
  },
  {
   "cell_type": "code",
   "execution_count": null,
   "id": "9aaa7e6e",
   "metadata": {},
   "outputs": [],
   "source": [
    "print(math.pow(2, 3))"
   ]
  },
  {
   "cell_type": "code",
   "execution_count": null,
   "id": "4a9e714a",
   "metadata": {},
   "outputs": [],
   "source": [
    "print(math.sin(math.pi / 2))"
   ]
  },
  {
   "cell_type": "code",
   "execution_count": null,
   "id": "cacfd56c",
   "metadata": {},
   "outputs": [],
   "source": [
    "print(math.log(10))"
   ]
  },
  {
   "cell_type": "code",
   "execution_count": null,
   "id": "bb330999",
   "metadata": {},
   "outputs": [],
   "source": [
    "print(math.ceil(4.2))\n",
    "print(math.floor(4.8))"
   ]
  }
 ],
 "metadata": {
  "kernelspec": {
   "display_name": "Python 3 (ipykernel)",
   "language": "python",
   "name": "python3"
  },
  "language_info": {
   "codemirror_mode": {
    "name": "ipython",
    "version": 3
   },
   "file_extension": ".py",
   "mimetype": "text/x-python",
   "name": "python",
   "nbconvert_exporter": "python",
   "pygments_lexer": "ipython3",
   "version": "3.12.1"
  }
 },
 "nbformat": 4,
 "nbformat_minor": 5
}
