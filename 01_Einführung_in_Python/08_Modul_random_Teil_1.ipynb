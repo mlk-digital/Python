{
 "cells": [
  {
   "cell_type": "markdown",
   "metadata": {},
   "source": [
    "# Modul: random\n",
    "#### Quellcode für das Modul random (https://github.com/python/cpython/blob/main/Lib/random.py)"
   ]
  },
  {
   "cell_type": "markdown",
   "metadata": {},
   "source": [
    "### Modul importieren"
   ]
  },
  {
   "cell_type": "code",
   "execution_count": 1,
   "metadata": {},
   "outputs": [],
   "source": [
    "import random"
   ]
  },
  {
   "cell_type": "markdown",
   "metadata": {},
   "source": [
    "### Zufallszahl \n",
    "zwischen 1 und 100"
   ]
  },
  {
   "cell_type": "code",
   "execution_count": 4,
   "metadata": {},
   "outputs": [
    {
     "name": "stdout",
     "output_type": "stream",
     "text": [
      "35\n"
     ]
    }
   ],
   "source": [
    "zufallszahl = random.randint(0, 100)\n",
    "print(zufallszahl)"
   ]
  },
  {
   "cell_type": "markdown",
   "metadata": {},
   "source": [
    "Gleitkommazahl zwischen 0 und 1"
   ]
  },
  {
   "cell_type": "code",
   "execution_count": 4,
   "metadata": {},
   "outputs": [
    {
     "name": "stdout",
     "output_type": "stream",
     "text": [
      "0.8296981693219309\n"
     ]
    }
   ],
   "source": [
    "zufall_kommazahl = random.random()\n",
    "print(zufall_kommazahl)"
   ]
  },
  {
   "cell_type": "markdown",
   "metadata": {},
   "source": [
    "Gleitkommazahl zwischen 1 und 100"
   ]
  },
  {
   "cell_type": "code",
   "execution_count": 5,
   "metadata": {},
   "outputs": [
    {
     "name": "stdout",
     "output_type": "stream",
     "text": [
      "57.94585045469047\n"
     ]
    }
   ],
   "source": [
    "gleitkomma = random.uniform(1, 100)\n",
    "print(gleitkomma)"
   ]
  },
  {
   "cell_type": "markdown",
   "metadata": {},
   "source": [
    "Liste mit 10 Zahlen"
   ]
  },
  {
   "cell_type": "code",
   "execution_count": 6,
   "metadata": {},
   "outputs": [
    {
     "name": "stdout",
     "output_type": "stream",
     "text": [
      "[86, 0, 97, 14, 7, 13, 23, 87, 51, 11]\n"
     ]
    }
   ],
   "source": [
    "liste_zufallszahlen = [random.randint(0, 100) for alle_zahlen in range(10)]\n",
    "print(liste_zufallszahlen)\n"
   ]
  },
  {
   "cell_type": "code",
   "execution_count": null,
   "metadata": {},
   "outputs": [],
   "source": []
  },
  {
   "cell_type": "markdown",
   "metadata": {},
   "source": [
    "Zahl aus Normalverteilung\n",
    "- Mittelwert von 0 \n",
    "- Standardabweichung von 1 "
   ]
  },
  {
   "cell_type": "code",
   "execution_count": 7,
   "metadata": {},
   "outputs": [
    {
     "name": "stdout",
     "output_type": "stream",
     "text": [
      "-0.4113839327719812\n"
     ]
    }
   ],
   "source": [
    "zufall_normal = random.gauss(0, 1)\n",
    "print(zufall_normal)"
   ]
  },
  {
   "cell_type": "markdown",
   "metadata": {},
   "source": [
    "### Mischen einer Liste"
   ]
  },
  {
   "cell_type": "code",
   "execution_count": 7,
   "metadata": {},
   "outputs": [
    {
     "name": "stdout",
     "output_type": "stream",
     "text": [
      "[9, 1, 5, 8, 2, 0, 3, 6, 7, 4]\n"
     ]
    }
   ],
   "source": [
    "meine_liste = [0,1,2,3,4,5,6,7,8,9]\n",
    "random.shuffle(meine_liste)\n",
    "print(meine_liste)"
   ]
  },
  {
   "cell_type": "markdown",
   "metadata": {},
   "source": [
    "Element aus Liste wählen"
   ]
  },
  {
   "cell_type": "code",
   "execution_count": 11,
   "metadata": {},
   "outputs": [
    {
     "name": "stdout",
     "output_type": "stream",
     "text": [
      "7\n"
     ]
    }
   ],
   "source": [
    "meine_liste = [0,1,2,3,4,5,6,7,8,9]\n",
    "auswahl = random.choice(meine_liste)\n",
    "print(auswahl)"
   ]
  },
  {
   "cell_type": "markdown",
   "metadata": {},
   "source": [
    "### Zeichenketten\n"
   ]
  },
  {
   "cell_type": "code",
   "execution_count": 15,
   "metadata": {},
   "outputs": [],
   "source": [
    "import string"
   ]
  },
  {
   "cell_type": "markdown",
   "metadata": {},
   "source": [
    "- Länge 10 Zeichen\n",
    "- Groß- und Kleinbuchstaben"
   ]
  },
  {
   "cell_type": "code",
   "execution_count": 19,
   "metadata": {},
   "outputs": [
    {
     "name": "stdout",
     "output_type": "stream",
     "text": [
      "['v', 'S', 'p', 'I', 'Z', 'R', 'T', 'k', 'J', 'K']\n"
     ]
    }
   ],
   "source": [
    "random_letters = [random.choice(string.ascii_letters) for _ in range(10)]\n",
    "print(random_letters)"
   ]
  },
  {
   "cell_type": "markdown",
   "metadata": {},
   "source": [
    "- Länge 10 Zeichen\n",
    "- Zufall aus Buchstaben und Zahlen"
   ]
  },
  {
   "cell_type": "code",
   "execution_count": 18,
   "metadata": {},
   "outputs": [
    {
     "name": "stdout",
     "output_type": "stream",
     "text": [
      "XPUGWGEEE5\n"
     ]
    }
   ],
   "source": [
    "random_string = ''.join(random.choices(string.ascii_uppercase + string.digits, k=10))\n",
    "print(random_string)\n"
   ]
  },
  {
   "cell_type": "code",
   "execution_count": null,
   "metadata": {},
   "outputs": [],
   "source": []
  },
  {
   "cell_type": "code",
   "execution_count": 14,
   "metadata": {},
   "outputs": [
    {
     "name": "stdout",
     "output_type": "stream",
     "text": [
      "grün\n"
     ]
    }
   ],
   "source": [
    "farben = [\"rot\", \"blau\", \"gelb\", \"grün\"]\n",
    "farbe = random.choice(farben)\n",
    "print(farbe)"
   ]
  },
  {
   "cell_type": "markdown",
   "metadata": {},
   "source": [
    "- Liste mit 3 Wörtern aus Liste"
   ]
  },
  {
   "cell_type": "code",
   "execution_count": 8,
   "metadata": {},
   "outputs": [],
   "source": [
    "import re"
   ]
  },
  {
   "cell_type": "code",
   "execution_count": 11,
   "metadata": {},
   "outputs": [
    {
     "name": "stdout",
     "output_type": "stream",
     "text": [
      "['Sätze', 'ist', 'Es']\n"
     ]
    }
   ],
   "source": [
    "text = \"Das ist ein Beispieltext. Es gibt mehrere Sätze und Wörter\"\n",
    "wörter = re.findall(r'\\w+', text)\n",
    "zufall = random.sample(wörter, k=3)\n",
    "print(zufall)"
   ]
  },
  {
   "cell_type": "markdown",
   "metadata": {},
   "source": [
    "oder"
   ]
  },
  {
   "cell_type": "code",
   "execution_count": 13,
   "metadata": {},
   "outputs": [
    {
     "name": "stdout",
     "output_type": "stream",
     "text": [
      "['Sätze', 'Wörter', 'ein']\n"
     ]
    }
   ],
   "source": [
    "random.shuffle(wörter)\n",
    "random_words = wörter[:3]\n",
    "print(random_words)"
   ]
  },
  {
   "cell_type": "markdown",
   "metadata": {},
   "source": [
    "### Datum"
   ]
  },
  {
   "cell_type": "code",
   "execution_count": 2,
   "metadata": {},
   "outputs": [],
   "source": [
    "import datetime"
   ]
  },
  {
   "cell_type": "code",
   "execution_count": 5,
   "metadata": {
    "scrolled": true
   },
   "outputs": [
    {
     "name": "stdout",
     "output_type": "stream",
     "text": [
      "2023-07-24\n"
     ]
    }
   ],
   "source": [
    "start_datum = datetime.date(2023,1,1)\n",
    "ende_datum = datetime.date(2023,12,31)\n",
    "zeit_zwischen_daten = ende_datum - start_datum\n",
    "tage_zwischen_daten = zeit_zwischen_daten.days\n",
    "zufall_tag = random.randrange(tage_zwischen_daten)\n",
    "zufall_datum = start_datum + datetime.timedelta(days=zufall_tag)\n",
    "print(zufall_datum)"
   ]
  },
  {
   "cell_type": "markdown",
   "metadata": {},
   "source": [
    "### Farben"
   ]
  },
  {
   "cell_type": "markdown",
   "metadata": {},
   "source": [
    "- zufälligen Farbe in RGB-Notation"
   ]
  },
  {
   "cell_type": "code",
   "execution_count": 6,
   "metadata": {},
   "outputs": [
    {
     "name": "stdout",
     "output_type": "stream",
     "text": [
      "(168, 6, 96)\n"
     ]
    }
   ],
   "source": [
    "import random\n",
    "\n",
    "random_color = (random.randint(0, 255), random.randint(0, 255), random.randint(0, 255))\n",
    "print(random_color)\n"
   ]
  },
  {
   "cell_type": "markdown",
   "metadata": {},
   "source": [
    "### Passwort\n",
    "- Länge 10\n"
   ]
  },
  {
   "cell_type": "code",
   "execution_count": 1,
   "metadata": {},
   "outputs": [],
   "source": [
    "import random\n",
    "import string"
   ]
  },
  {
   "cell_type": "code",
   "execution_count": 3,
   "metadata": {},
   "outputs": [
    {
     "name": "stdout",
     "output_type": "stream",
     "text": [
      "@^@29Hzu-(8!9hukTY-7K)b]hRF&qY5%\n"
     ]
    }
   ],
   "source": [
    "länge = 32\n",
    "zeichen = string.ascii_letters + string.digits + string.punctuation\n",
    "passwort = ''.join(random.choice(zeichen) for _ in range(länge))\n",
    "print(passwort)"
   ]
  },
  {
   "cell_type": "code",
   "execution_count": null,
   "metadata": {},
   "outputs": [],
   "source": []
  }
 ],
 "metadata": {
  "kernelspec": {
   "display_name": "Python 3 (ipykernel)",
   "language": "python",
   "name": "python3"
  },
  "language_info": {
   "codemirror_mode": {
    "name": "ipython",
    "version": 3
   },
   "file_extension": ".py",
   "mimetype": "text/x-python",
   "name": "python",
   "nbconvert_exporter": "python",
   "pygments_lexer": "ipython3",
   "version": "3.11.0"
  }
 },
 "nbformat": 4,
 "nbformat_minor": 4
}
