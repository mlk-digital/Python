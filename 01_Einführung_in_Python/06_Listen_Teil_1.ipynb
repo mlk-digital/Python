{
 "cells": [
  {
   "cell_type": "markdown",
   "metadata": {},
   "source": [
    "# Listen\n",
    "#### In Listen können mehrere Werte (Elemente) geschrieben werden.\n"
   ]
  },
  {
   "cell_type": "code",
   "execution_count": 2,
   "metadata": {},
   "outputs": [
    {
     "name": "stdout",
     "output_type": "stream",
     "text": [
      "['Katze', 'Hund', 'Maus', 'Faultier', 'Eichhörnchen']\n"
     ]
    }
   ],
   "source": [
    "tiere = [\"Katze\", \"Hund\", \"Maus\", \"Faultier\", \"Eichhörnchen\"]\n",
    "print(tiere)"
   ]
  },
  {
   "cell_type": "markdown",
   "metadata": {},
   "source": [
    "### Einzelnes Element ansprechen"
   ]
  },
  {
   "cell_type": "code",
   "execution_count": null,
   "metadata": {},
   "outputs": [],
   "source": [
    "print(tiere[0])"
   ]
  },
  {
   "cell_type": "markdown",
   "metadata": {},
   "source": [
    "### 1. bis 3. Element ansprechen"
   ]
  },
  {
   "cell_type": "code",
   "execution_count": null,
   "metadata": {},
   "outputs": [],
   "source": [
    "print(tiere[0:3])"
   ]
  },
  {
   "cell_type": "markdown",
   "metadata": {},
   "source": [
    "### Letztes Elemt der Liste ansprechen"
   ]
  },
  {
   "cell_type": "code",
   "execution_count": null,
   "metadata": {},
   "outputs": [],
   "source": [
    "print(tiere[-1])"
   ]
  },
  {
   "cell_type": "markdown",
   "metadata": {},
   "source": [
    "### Anzahl der Elemente ermitteln\n",
    "#### Funktion: len()"
   ]
  },
  {
   "cell_type": "code",
   "execution_count": null,
   "metadata": {},
   "outputs": [],
   "source": [
    "print(len(tiere))"
   ]
  },
  {
   "cell_type": "markdown",
   "metadata": {},
   "source": [
    "### Ein Element hinzufügen\n",
    "#### Das Element wird am Ende der Liste hinzugefügt\n",
    "#### Befehl: append()"
   ]
  },
  {
   "cell_type": "code",
   "execution_count": null,
   "metadata": {},
   "outputs": [],
   "source": [
    "print(tiere)\n",
    "tiere.append(\"Schlange\")\n",
    "print(tiere)"
   ]
  },
  {
   "cell_type": "markdown",
   "metadata": {},
   "source": [
    "### Ein Element löschen\n",
    "#### Befehl: remove()"
   ]
  },
  {
   "cell_type": "code",
   "execution_count": null,
   "metadata": {},
   "outputs": [],
   "source": [
    "print(tiere)\n",
    "tiere.remove(\"Schlange\")\n",
    "print(tiere)"
   ]
  },
  {
   "cell_type": "markdown",
   "metadata": {},
   "source": [
    "#### Über den Index löschen\n",
    "#### Beispiel: Das erste Elemt einer Liste löschen"
   ]
  },
  {
   "cell_type": "code",
   "execution_count": null,
   "metadata": {},
   "outputs": [],
   "source": [
    "print(tiere)\n",
    "del tiere[0]\n",
    "print(tiere)"
   ]
  },
  {
   "cell_type": "markdown",
   "metadata": {},
   "source": [
    "### Ein Element ändern\n",
    "#### Beispiel: Das erste Element einer Liste ändern"
   ]
  },
  {
   "cell_type": "code",
   "execution_count": null,
   "metadata": {},
   "outputs": [],
   "source": [
    "print(tiere)\n",
    "tiere[0] = \"Löwe\"\n",
    "print(tiere)"
   ]
  },
  {
   "cell_type": "markdown",
   "metadata": {},
   "source": [
    "### Liste sortieren\n",
    "#### Befehl: sort()"
   ]
  },
  {
   "cell_type": "code",
   "execution_count": 3,
   "metadata": {},
   "outputs": [
    {
     "name": "stdout",
     "output_type": "stream",
     "text": [
      "['Katze', 'Hund', 'Maus', 'Faultier', 'Eichhörnchen']\n",
      "['Eichhörnchen', 'Faultier', 'Hund', 'Katze', 'Maus']\n"
     ]
    }
   ],
   "source": [
    "print(tiere)\n",
    "tiere.sort()\n",
    "print(tiere)"
   ]
  },
  {
   "cell_type": "markdown",
   "metadata": {},
   "source": [
    "### Listenreihenfolge umkehren\n",
    "#### Befehl: reverse()"
   ]
  },
  {
   "cell_type": "code",
   "execution_count": 4,
   "metadata": {},
   "outputs": [
    {
     "name": "stdout",
     "output_type": "stream",
     "text": [
      "['Eichhörnchen', 'Faultier', 'Hund', 'Katze', 'Maus']\n",
      "['Maus', 'Katze', 'Hund', 'Faultier', 'Eichhörnchen']\n"
     ]
    }
   ],
   "source": [
    "print(tiere)\n",
    "tiere.reverse()\n",
    "print(tiere)"
   ]
  },
  {
   "cell_type": "markdown",
   "metadata": {},
   "source": [
    "----"
   ]
  },
  {
   "cell_type": "markdown",
   "metadata": {},
   "source": [
    "## Bonus"
   ]
  },
  {
   "cell_type": "markdown",
   "metadata": {},
   "source": [
    "### Zufallsausgabe"
   ]
  },
  {
   "cell_type": "code",
   "execution_count": null,
   "metadata": {},
   "outputs": [],
   "source": [
    "import random\n",
    "tier_per_zufall = random.choice(tiere)\n",
    "print(tiere)\n",
    "print(tier_per_zufall)\n"
   ]
  },
  {
   "cell_type": "markdown",
   "metadata": {},
   "source": [
    "----"
   ]
  },
  {
   "cell_type": "code",
   "execution_count": null,
   "metadata": {},
   "outputs": [],
   "source": []
  }
 ],
 "metadata": {
  "kernelspec": {
   "display_name": "Python 3 (ipykernel)",
   "language": "python",
   "name": "python3"
  },
  "language_info": {
   "codemirror_mode": {
    "name": "ipython",
    "version": 3
   },
   "file_extension": ".py",
   "mimetype": "text/x-python",
   "name": "python",
   "nbconvert_exporter": "python",
   "pygments_lexer": "ipython3",
   "version": "3.11.0"
  }
 },
 "nbformat": 4,
 "nbformat_minor": 4
}
