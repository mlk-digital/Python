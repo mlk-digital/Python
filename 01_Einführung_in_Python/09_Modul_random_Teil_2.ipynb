{
 "cells": [
  {
   "cell_type": "markdown",
   "metadata": {},
   "source": [
    "**Erweiterung: Modul random**"
   ]
  },
  {
   "cell_type": "markdown",
   "metadata": {},
   "source": [
    "# Binominalverteilung"
   ]
  },
  {
   "cell_type": "code",
   "execution_count": 10,
   "metadata": {},
   "outputs": [
    {
     "name": "stdout",
     "output_type": "stream",
     "text": [
      "Anzahl der Erfolge: 5\n"
     ]
    }
   ],
   "source": [
    "import random\n",
    "\n",
    "# Simulation einer Binomialverteilung mit 10 Versuchen und Erfolgswahrscheinlichkeit 0.3\n",
    "num_successes = sum(random.random() < 0.3 for i in range(10))\n",
    "print(\"Anzahl der Erfolge:\", num_successes)\n"
   ]
  },
  {
   "cell_type": "code",
   "execution_count": 6,
   "metadata": {},
   "outputs": [
    {
     "name": "stdout",
     "output_type": "stream",
     "text": [
      "Anzahl der Erfolge: 4\n"
     ]
    }
   ],
   "source": [
    "import random\n",
    "\n",
    "# Simulation einer Binomialverteilung mit 10 Versuchen und Erfolgswahrscheinlichkeit 0.5\n",
    "num_successes = sum(random.random() < 0.5 for i in range(10))\n",
    "print(\"Anzahl der Erfolge:\", num_successes)\n"
   ]
  },
  {
   "cell_type": "markdown",
   "metadata": {},
   "source": [
    "## Bonus"
   ]
  },
  {
   "cell_type": "code",
   "execution_count": 7,
   "metadata": {},
   "outputs": [
    {
     "name": "stdout",
     "output_type": "stream",
     "text": [
      "[1, 4, 9, 16, 25, 36, 49, 64, 81]\n"
     ]
    }
   ],
   "source": [
    "s = []\n",
    "for i in range(1,10):\n",
    "    s.append(i*i)\n",
    "print(s)"
   ]
  }
 ],
 "metadata": {
  "kernelspec": {
   "display_name": "Python 3 (ipykernel)",
   "language": "python",
   "name": "python3"
  },
  "language_info": {
   "codemirror_mode": {
    "name": "ipython",
    "version": 3
   },
   "file_extension": ".py",
   "mimetype": "text/x-python",
   "name": "python",
   "nbconvert_exporter": "python",
   "pygments_lexer": "ipython3",
   "version": "3.11.0"
  }
 },
 "nbformat": 4,
 "nbformat_minor": 4
}
