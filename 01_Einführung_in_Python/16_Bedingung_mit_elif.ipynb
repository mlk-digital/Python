{
 "cells": [
  {
   "cell_type": "code",
   "execution_count": null,
   "metadata": {},
   "outputs": [],
   "source": []
  },
  {
   "cell_type": "code",
   "execution_count": 7,
   "metadata": {},
   "outputs": [
    {
     "name": "stdout",
     "output_type": "stream",
     "text": [
      "Alpha\n"
     ]
    }
   ],
   "source": [
    "winkel = \"α\"\n",
    "\n",
    "if winkel == \"α\":\n",
    "    print(\"Alpha\")\n",
    "else:\n",
    "    if winkel == \"β\":\n",
    "        print(\"Beta\")\n",
    "    else:\n",
    "        if winkel == \"γ\":\n",
    "            print(\"Gamma\")\n",
    "        else:\n",
    "            if winkel == \"δ\":\n",
    "                print(\"Delta\")\n",
    "                "
   ]
  },
  {
   "cell_type": "code",
   "execution_count": 9,
   "metadata": {},
   "outputs": [
    {
     "name": "stdout",
     "output_type": "stream",
     "text": [
      "Alpha\n"
     ]
    }
   ],
   "source": [
    "winkel = \"α\"\n",
    "\n",
    "if winkel == \"α\":\n",
    "    print(\"Alpha\")\n",
    "elif winkel == \"β\":\n",
    "    print(\"Beta\")\n",
    "elif winkel == \"γ\":\n",
    "    print(\"Gamma\")\n",
    "elif winkel == \"δ\":\n",
    "    print(\"Delta\")\n",
    "                "
   ]
  },
  {
   "cell_type": "code",
   "execution_count": null,
   "metadata": {},
   "outputs": [],
   "source": []
  }
 ],
 "metadata": {
  "kernelspec": {
   "display_name": "Python 3 (ipykernel)",
   "language": "python",
   "name": "python3"
  },
  "language_info": {
   "codemirror_mode": {
    "name": "ipython",
    "version": 3
   },
   "file_extension": ".py",
   "mimetype": "text/x-python",
   "name": "python",
   "nbconvert_exporter": "python",
   "pygments_lexer": "ipython3",
   "version": "3.11.0"
  }
 },
 "nbformat": 4,
 "nbformat_minor": 4
}
