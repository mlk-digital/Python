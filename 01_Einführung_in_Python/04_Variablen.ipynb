{
 "cells": [
  {
   "cell_type": "markdown",
   "metadata": {},
   "source": [
    "# Variablen"
   ]
  },
  {
   "cell_type": "markdown",
   "metadata": {},
   "source": [
    "#### Variablen dienen als Art Platzhalter.\n",
    "#### Werte (Text oder Zahlen) können in Variablen gespeichert werden."
   ]
  },
  {
   "cell_type": "code",
   "execution_count": 7,
   "metadata": {},
   "outputs": [
    {
     "name": "stdout",
     "output_type": "stream",
     "text": [
      "50\n"
     ]
    }
   ],
   "source": [
    "a = 5\n",
    "b = 10\n",
    "print(a*b)"
   ]
  },
  {
   "cell_type": "markdown",
   "metadata": {},
   "source": [
    "#### Die Namen für die Variablen können frei gewählt werden.\n",
    "#### Sie dürfen nicht mit einer Ziffer beginnen.\n",
    "#### Sie dürfen keine Leerzeichen enthalten."
   ]
  },
  {
   "cell_type": "code",
   "execution_count": 8,
   "metadata": {},
   "outputs": [
    {
     "name": "stdout",
     "output_type": "stream",
     "text": [
      "50\n"
     ]
    }
   ],
   "source": [
    "asterix = 5\n",
    "obelix = 10\n",
    "print(asterix*obelix)\n"
   ]
  },
  {
   "cell_type": "code",
   "execution_count": 10,
   "metadata": {},
   "outputs": [
    {
     "name": "stdout",
     "output_type": "stream",
     "text": [
      "Asterix & Obelix\n"
     ]
    }
   ],
   "source": [
    "gallier1 = \"Asterix\"\n",
    "gallier2 = \"Obelix\"\n",
    "print(gallier1, \"&\" ,gallier2)"
   ]
  },
  {
   "cell_type": "markdown",
   "metadata": {},
   "source": [
    "----"
   ]
  },
  {
   "cell_type": "markdown",
   "metadata": {},
   "source": [
    "## Projekt Geometrie - Teil 1"
   ]
  },
  {
   "cell_type": "code",
   "execution_count": 13,
   "metadata": {},
   "outputs": [
    {
     "name": "stdout",
     "output_type": "stream",
     "text": [
      "Programm zur Berechnung von Vierecken\n",
      "Der Flächeninhalt beträgt: 50\n",
      "Der Umfang beträgt: 30\n"
     ]
    }
   ],
   "source": [
    "print(\"Programm zur Berechnung von Vierecken\")\n",
    "seite_a = 5\n",
    "seite_b = 10\n",
    "fläche = seite_a * seite_b\n",
    "umfang = 2*seite_a + 2*seite_b\n",
    "print(\"Der Flächeninhalt beträgt:\" , fläche)\n",
    "print(\"Der Umfang beträgt:\" , umfang)"
   ]
  }
 ],
 "metadata": {
  "kernelspec": {
   "display_name": "Python 3 (ipykernel)",
   "language": "python",
   "name": "python3"
  },
  "language_info": {
   "codemirror_mode": {
    "name": "ipython",
    "version": 3
   },
   "file_extension": ".py",
   "mimetype": "text/x-python",
   "name": "python",
   "nbconvert_exporter": "python",
   "pygments_lexer": "ipython3",
   "version": "3.11.0"
  }
 },
 "nbformat": 4,
 "nbformat_minor": 4
}
