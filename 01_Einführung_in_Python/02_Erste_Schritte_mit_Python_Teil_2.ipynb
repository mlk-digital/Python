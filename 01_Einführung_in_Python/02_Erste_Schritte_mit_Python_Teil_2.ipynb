{
 "cells": [
  {
   "cell_type": "markdown",
   "id": "fd3e20c5",
   "metadata": {},
   "source": [
    "# Rechnen mit Python"
   ]
  },
  {
   "cell_type": "code",
   "execution_count": 2,
   "id": "657a8f41",
   "metadata": {},
   "outputs": [
    {
     "data": {
      "text/plain": [
       "5"
      ]
     },
     "execution_count": 2,
     "metadata": {},
     "output_type": "execute_result"
    }
   ],
   "source": [
    "2 + 3"
   ]
  },
  {
   "cell_type": "markdown",
   "id": "c1c649b7",
   "metadata": {},
   "source": [
    "### Subkraktion"
   ]
  },
  {
   "cell_type": "code",
   "execution_count": 3,
   "id": "b8561e67",
   "metadata": {},
   "outputs": [
    {
     "data": {
      "text/plain": [
       "-1"
      ]
     },
     "execution_count": 3,
     "metadata": {},
     "output_type": "execute_result"
    }
   ],
   "source": [
    "2 - 3"
   ]
  },
  {
   "cell_type": "markdown",
   "id": "21393656",
   "metadata": {},
   "source": [
    "### Multiplikation"
   ]
  },
  {
   "cell_type": "code",
   "execution_count": 4,
   "id": "dbb7b278",
   "metadata": {},
   "outputs": [
    {
     "data": {
      "text/plain": [
       "6"
      ]
     },
     "execution_count": 4,
     "metadata": {},
     "output_type": "execute_result"
    }
   ],
   "source": [
    "2 * 3"
   ]
  },
  {
   "cell_type": "markdown",
   "id": "1d71d7d3",
   "metadata": {},
   "source": [
    "### Division"
   ]
  },
  {
   "cell_type": "code",
   "execution_count": 5,
   "id": "3a2bf3d8",
   "metadata": {},
   "outputs": [
    {
     "data": {
      "text/plain": [
       "0.6666666666666666"
      ]
     },
     "execution_count": 5,
     "metadata": {},
     "output_type": "execute_result"
    }
   ],
   "source": [
    "2 / 3"
   ]
  },
  {
   "cell_type": "markdown",
   "id": "e15a7211",
   "metadata": {},
   "source": [
    "### Potenzrechnung "
   ]
  },
  {
   "cell_type": "code",
   "execution_count": 9,
   "id": "d40ca88f",
   "metadata": {},
   "outputs": [
    {
     "data": {
      "text/plain": [
       "8"
      ]
     },
     "execution_count": 9,
     "metadata": {},
     "output_type": "execute_result"
    }
   ],
   "source": [
    "2**3"
   ]
  },
  {
   "cell_type": "markdown",
   "id": "58fb1ce6",
   "metadata": {},
   "source": [
    "### Wurzel ziehen"
   ]
  },
  {
   "cell_type": "markdown",
   "id": "22c3bfe3",
   "metadata": {},
   "source": [
    "Quadratwurzel"
   ]
  },
  {
   "cell_type": "code",
   "execution_count": 10,
   "id": "bbf5fff0",
   "metadata": {},
   "outputs": [
    {
     "data": {
      "text/plain": [
       "3.0"
      ]
     },
     "execution_count": 10,
     "metadata": {},
     "output_type": "execute_result"
    }
   ],
   "source": [
    "9**(1/2)"
   ]
  },
  {
   "cell_type": "markdown",
   "id": "e7bf859d",
   "metadata": {},
   "source": [
    "3. Wurzel"
   ]
  },
  {
   "cell_type": "code",
   "execution_count": 11,
   "id": "8a316755",
   "metadata": {},
   "outputs": [
    {
     "data": {
      "text/plain": [
       "2.080083823051904"
      ]
     },
     "execution_count": 11,
     "metadata": {},
     "output_type": "execute_result"
    }
   ],
   "source": [
    "9**(1/3)"
   ]
  },
  {
   "cell_type": "markdown",
   "id": "00e778db",
   "metadata": {},
   "source": [
    "## oder --> siehe Modul: math"
   ]
  }
 ],
 "metadata": {
  "kernelspec": {
   "display_name": "Python 3 (ipykernel)",
   "language": "python",
   "name": "python3"
  },
  "language_info": {
   "codemirror_mode": {
    "name": "ipython",
    "version": 3
   },
   "file_extension": ".py",
   "mimetype": "text/x-python",
   "name": "python",
   "nbconvert_exporter": "python",
   "pygments_lexer": "ipython3",
   "version": "3.11.0"
  }
 },
 "nbformat": 4,
 "nbformat_minor": 5
}

