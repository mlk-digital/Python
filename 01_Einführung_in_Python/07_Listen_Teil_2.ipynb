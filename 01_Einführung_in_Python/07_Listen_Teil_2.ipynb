{
 "cells": [
  {
   "cell_type": "markdown",
   "metadata": {},
   "source": [
    "# Listen - Teil 2"
   ]
  },
  {
   "cell_type": "markdown",
   "metadata": {},
   "source": [
    "### Verschachtelte Listen erstellen"
   ]
  },
  {
   "cell_type": "code",
   "execution_count": 1,
   "metadata": {},
   "outputs": [
    {
     "name": "stdout",
     "output_type": "stream",
     "text": [
      "[[10, 2, 3], [4, 5, 6], [7, 8, 9]]\n",
      "[[1, 2, [3, 4]], [5, [6, 7, 10], 8], 9]\n"
     ]
    }
   ],
   "source": [
    "# Erstellen einer verschachtelten Liste\n",
    "verschachtelte_liste = [[1, 2, 3], [4, 5, 6], [7, 8, 9]]\n",
    "\n",
    "# Zugriff auf Elemente in einer verschachtelten Liste\n",
    "element = verschachtelte_liste[1][2]  # Das gibt das Element in der zweiten Liste mit Index 1 und dem dritten Element in dieser Liste zurück.\n",
    "\n",
    "# Ändern eines Elements in einer verschachtelten Liste\n",
    "verschachtelte_liste[0][0] = 10  # Ändert das erste Element in der ersten Liste auf 10.\n",
    "\n",
    "# Verschachtelte Listen können auch Listen in Listen enthalten\n",
    "noch_mehr_verschachtelte_liste = [[1, 2, [3, 4]], [5, [6, 7], 8], 9]\n",
    "\n",
    "# Zugriff auf ein tief verschachteltes Element\n",
    "element = noch_mehr_verschachtelte_liste[0][2][1]  # Gibt das zweite Element in der innersten Liste zurück.\n",
    "\n",
    "# Listenmanipulation in tief verschachtelten Listen\n",
    "noch_mehr_verschachtelte_liste[1][1].append(10)  # Fügt der zweiten Liste im zweiten Element eine 10 hinzu.\n",
    "\n",
    "print(verschachtelte_liste)\n",
    "print(noch_mehr_verschachtelte_liste)\n"
   ]
  },
  {
   "cell_type": "markdown",
   "metadata": {},
   "source": [
    "### Listen sortieren\n",
    "#### Ändern der Originalliste mit sort() - siehe Listen - Teil 1\n",
    "#### oder durch Erstellen einer sortierten Kopie mit sorted()."
   ]
  },
  {
   "cell_type": "code",
   "execution_count": 5,
   "metadata": {},
   "outputs": [
    {
     "name": "stdout",
     "output_type": "stream",
     "text": [
      "[3, 1, 4, 1, 5, 9, 2, 6, 5, 3, 5]\n",
      "[1, 1, 2, 3, 3, 4, 5, 5, 5, 6, 9]\n"
     ]
    }
   ],
   "source": [
    "# Eine Liste erstellen\n",
    "zahlen = [3, 1, 4, 1, 5, 9, 2, 6, 5, 3, 5]\n",
    "\n",
    "# Eine sortierte Kopie der Liste erstellen\n",
    "sortierte_zahlen = sorted(zahlen)\n",
    "\n",
    "# Die originale Liste anzeigen\n",
    "print(zahlen)\n",
    "\n",
    "# Die sortierte Kopie der Liste ausgeben\n",
    "print(sortierte_zahlen)\n"
   ]
  },
  {
   "cell_type": "markdown",
   "metadata": {},
   "source": [
    "### Entferne doppelte Elemente aus der Liste\n",
    "#### Die Liste wird in ein Set umgewandelt. \n",
    "#### Da Sets keine doppelten Elemente zulassen, werden alle Duplikate entfernt.\n",
    "#### Befehl: list(set())"
   ]
  },
  {
   "cell_type": "code",
   "execution_count": 7,
   "metadata": {},
   "outputs": [
    {
     "name": "stdout",
     "output_type": "stream",
     "text": [
      "[3, 1, 4, 1, 5, 9, 2, 6, 5, 3, 5]\n",
      "[1, 1, 2, 3, 3, 4, 5, 5, 5, 6, 9]\n",
      "[1, 2, 3, 4, 5, 6, 9]\n"
     ]
    }
   ],
   "source": [
    "zahlen = [3, 1, 4, 1, 5, 9, 2, 6, 5, 3, 5]\n",
    "print(zahlen)\n",
    "print(sorted(zahlen))\n",
    "print(list(set(zahlen)))"
   ]
  },
  {
   "cell_type": "code",
   "execution_count": null,
   "metadata": {},
   "outputs": [],
   "source": []
  }
 ],
 "metadata": {
  "kernelspec": {
   "display_name": "Python 3 (ipykernel)",
   "language": "python",
   "name": "python3"
  },
  "language_info": {
   "codemirror_mode": {
    "name": "ipython",
    "version": 3
   },
   "file_extension": ".py",
   "mimetype": "text/x-python",
   "name": "python",
   "nbconvert_exporter": "python",
   "pygments_lexer": "ipython3",
   "version": "3.11.0"
  }
 },
 "nbformat": 4,
 "nbformat_minor": 4
}
