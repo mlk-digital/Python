{
 "cells": [
  {
   "cell_type": "markdown",
   "id": "8bd9f157",
   "metadata": {},
   "source": [
    "# Modul: string"
   ]
  },
  {
   "cell_type": "code",
   "execution_count": 1,
   "id": "3321c85a",
   "metadata": {},
   "outputs": [],
   "source": [
    "import string"
   ]
  },
  {
   "cell_type": "markdown",
   "id": "48a26414",
   "metadata": {},
   "source": [
    "### Groß- und Kleinbuchstaben"
   ]
  },
  {
   "cell_type": "code",
   "execution_count": 3,
   "id": "3d3759cb",
   "metadata": {},
   "outputs": [
    {
     "name": "stdout",
     "output_type": "stream",
     "text": [
      "abcdefghijklmnopqrstuvwxyzABCDEFGHIJKLMNOPQRSTUVWXYZ\n"
     ]
    }
   ],
   "source": [
    "print(string.ascii_letters)"
   ]
  },
  {
   "cell_type": "markdown",
   "id": "0811bd28",
   "metadata": {},
   "source": [
    "### Großbuchstaben"
   ]
  },
  {
   "cell_type": "code",
   "execution_count": 4,
   "id": "3034bdc8",
   "metadata": {},
   "outputs": [
    {
     "name": "stdout",
     "output_type": "stream",
     "text": [
      "ABCDEFGHIJKLMNOPQRSTUVWXYZ\n"
     ]
    }
   ],
   "source": [
    "print(string.ascii_uppercase)"
   ]
  },
  {
   "cell_type": "markdown",
   "id": "6ffd9240",
   "metadata": {},
   "source": [
    "### Kleinbuchstaben"
   ]
  },
  {
   "cell_type": "code",
   "execution_count": 8,
   "id": "d837106a",
   "metadata": {},
   "outputs": [
    {
     "name": "stdout",
     "output_type": "stream",
     "text": [
      "abcdefghijklmnopqrstuvwxyz\n"
     ]
    }
   ],
   "source": [
    "print(string.ascii_lowercase)"
   ]
  },
  {
   "cell_type": "markdown",
   "id": "86ab0686",
   "metadata": {},
   "source": [
    "### Ziffern 0 bis 9"
   ]
  },
  {
   "cell_type": "code",
   "execution_count": 6,
   "id": "aff51d86",
   "metadata": {},
   "outputs": [
    {
     "name": "stdout",
     "output_type": "stream",
     "text": [
      "0123456789\n"
     ]
    }
   ],
   "source": [
    "print(string.digits)"
   ]
  },
  {
   "cell_type": "markdown",
   "id": "99360039",
   "metadata": {},
   "source": [
    "### Hexadezimal"
   ]
  },
  {
   "cell_type": "code",
   "execution_count": 7,
   "id": "354427ee",
   "metadata": {},
   "outputs": [
    {
     "name": "stdout",
     "output_type": "stream",
     "text": [
      "0123456789abcdefABCDEF\n"
     ]
    }
   ],
   "source": [
    "print(string.hexdigits)"
   ]
  },
  {
   "cell_type": "markdown",
   "id": "c37a5708",
   "metadata": {},
   "source": [
    "### Zeichensätze"
   ]
  },
  {
   "cell_type": "code",
   "execution_count": 9,
   "id": "a5b772dc",
   "metadata": {},
   "outputs": [
    {
     "name": "stdout",
     "output_type": "stream",
     "text": [
      "!\"#$%&'()*+,-./:;<=>?@[\\]^_`{|}~\n"
     ]
    }
   ],
   "source": [
    "print(string.punctuation)"
   ]
  },
  {
   "cell_type": "markdown",
   "id": "9f7ae45f",
   "metadata": {},
   "source": [
    "### Leerzeichen"
   ]
  },
  {
   "cell_type": "code",
   "execution_count": 10,
   "id": "92eb025a",
   "metadata": {},
   "outputs": [
    {
     "name": "stdout",
     "output_type": "stream",
     "text": [
      " \t\n",
      "\r",
      "\u000b",
      "\f",
      "\n"
     ]
    }
   ],
   "source": [
    "print(string.whitespace)"
   ]
  },
  {
   "cell_type": "code",
   "execution_count": null,
   "id": "0693d74f",
   "metadata": {},
   "outputs": [],
   "source": []
  }
 ],
 "metadata": {
  "kernelspec": {
   "display_name": "Python 3 (ipykernel)",
   "language": "python",
   "name": "python3"
  },
  "language_info": {
   "codemirror_mode": {
    "name": "ipython",
    "version": 3
   },
   "file_extension": ".py",
   "mimetype": "text/x-python",
   "name": "python",
   "nbconvert_exporter": "python",
   "pygments_lexer": "ipython3",
   "version": "3.11.0"
  }
 },
 "nbformat": 4,
 "nbformat_minor": 5
}
