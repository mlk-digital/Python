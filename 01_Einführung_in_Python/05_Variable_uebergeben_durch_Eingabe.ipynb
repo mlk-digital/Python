{
 "cells": [
  {
   "cell_type": "markdown",
   "metadata": {},
   "source": [
    "# Variable übergeben durch Eingabe"
   ]
  },
  {
   "cell_type": "markdown",
   "metadata": {},
   "source": [
    "#### Der Befehl lautet: input()"
   ]
  },
  {
   "cell_type": "code",
   "execution_count": null,
   "metadata": {},
   "outputs": [],
   "source": [
    "name = input(\"Gib deinen Namen ein:\")\n",
    "print(name)"
   ]
  },
  {
   "cell_type": "markdown",
   "metadata": {},
   "source": [
    "#### Die Ausgabe wird durch einen String (Zeichenkette) ergänzt"
   ]
  },
  {
   "cell_type": "code",
   "execution_count": null,
   "metadata": {},
   "outputs": [],
   "source": [
    "name = input(\"Gib deinen Namen ein:\")\n",
    "print(\"Dein eingegebener Name lautet:\" , name)"
   ]
  },
  {
   "cell_type": "markdown",
   "metadata": {},
   "source": [
    "#### Vier Abfragen werden in einem Satz zusammengefast"
   ]
  },
  {
   "cell_type": "code",
   "execution_count": null,
   "metadata": {
    "scrolled": true
   },
   "outputs": [],
   "source": [
    "nachname = input(\"Gib deinen Nachnamen an:\")\n",
    "vorname = input(\"Gib deinen Vornamen an:\")\n",
    "wohnort = input(\"In welchem Ort wohnst du?:\")\n",
    "alter = input(\"Wie alt bist du?:\")\n",
    "print(\"Hallo\", vorname, nachname, \"Du bist\", alter, \"Jahre alt und wohnst in\", wohnort)\n"
   ]
  },
  {
   "cell_type": "markdown",
   "metadata": {},
   "source": [
    "----"
   ]
  },
  {
   "cell_type": "markdown",
   "metadata": {},
   "source": [
    "----"
   ]
  },
  {
   "cell_type": "markdown",
   "metadata": {},
   "source": [
    "## Bonus"
   ]
  },
  {
   "cell_type": "markdown",
   "metadata": {},
   "source": [
    "### Vergleichsoperatur mit \"wenn\" \"dann\" \"sonst\" - Schleife"
   ]
  },
  {
   "cell_type": "code",
   "execution_count": null,
   "metadata": {},
   "outputs": [],
   "source": [
    "nickname = input(\"Gib deinen Nicknamen ein:\")\n",
    "if str(nickname) == \"Linda\":\n",
    "    print(\"Hallo\", nickname, \"du darfst das Spiel spielen\")\n",
    "else: \n",
    "    print(\"Du hast leider keinen Zugang zu dem Spiel\")"
   ]
  },
  {
   "cell_type": "markdown",
   "metadata": {},
   "source": [
    "#### Die Bedingung kann umgedreht werden. ... wenn der Name nicht Linda ist "
   ]
  },
  {
   "cell_type": "code",
   "execution_count": null,
   "metadata": {},
   "outputs": [],
   "source": [
    "nickname = input(\"Gib deinen Nicknamen ein:\")\n",
    "if str(nickname) != \"Linda\":\n",
    "    print(\"Du hast leider keinen Zugang zu dem Spiel\")\n",
    "else: \n",
    "    print(\"Hallo\", nickname, \"du darfst das Spiel spielen\")"
   ]
  },
  {
   "cell_type": "markdown",
   "metadata": {},
   "source": [
    "----"
   ]
  },
  {
   "cell_type": "markdown",
   "metadata": {},
   "source": [
    "----"
   ]
  },
  {
   "cell_type": "markdown",
   "metadata": {},
   "source": [
    "## Projekt - Geometrie - Teil 2"
   ]
  },
  {
   "cell_type": "code",
   "execution_count": null,
   "metadata": {},
   "outputs": [],
   "source": [
    "print(\"Berechnung: Viereck\")\n",
    "a = input(\"Gib die Seitenlänge a an:\")\n",
    "b = input(\"Gib die Seitenlänge b an:\")\n",
    "fläche = int(a) * int(b)\n",
    "umfang = 2*int(a) + 2*int(b)\n",
    "print(\"Flächeninhalt: \", fläche)\n",
    "print(\"Umfang: \", umfang)\n",
    "\n"
   ]
  }
 ],
 "metadata": {
  "kernelspec": {
   "display_name": "Python 3 (ipykernel)",
   "language": "python",
   "name": "python3"
  },
  "language_info": {
   "codemirror_mode": {
    "name": "ipython",
    "version": 3
   },
   "file_extension": ".py",
   "mimetype": "text/x-python",
   "name": "python",
   "nbconvert_exporter": "python",
   "pygments_lexer": "ipython3",
   "version": "3.11.0"
  }
 },
 "nbformat": 4,
 "nbformat_minor": 4
}
